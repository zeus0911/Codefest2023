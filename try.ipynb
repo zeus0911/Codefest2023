{
 "cells": [
  {
   "cell_type": "code",
   "execution_count": null,
   "metadata": {},
   "outputs": [],
   "source": [
    "import redis\n",
    "from redis.commands.search.field import VectorField, TagField\n",
    "from redis.commands.search.query import Query\n",
    "import os"
   ]
  },
  {
   "cell_type": "code",
   "execution_count": null,
   "metadata": {},
   "outputs": [],
   "source": [
    "pool = redis.ConnectionPool(host='localhost', port=6379, db=0)\n",
    "r = redis.Redis(connection_pool=pool, ssl=False)"
   ]
  },
  {
   "cell_type": "code",
   "execution_count": null,
   "metadata": {},
   "outputs": [],
   "source": [
    "r.ping()"
   ]
  },
  {
   "cell_type": "code",
   "execution_count": null,
   "metadata": {},
   "outputs": [],
   "source": [
    "r.keys('*')"
   ]
  },
  {
   "cell_type": "code",
   "execution_count": null,
   "metadata": {},
   "outputs": [],
   "source": [
    "r.flushdb()"
   ]
  },
  {
   "cell_type": "code",
   "execution_count": null,
   "metadata": {},
   "outputs": [],
   "source": [
    "r.keys('*')"
   ]
  },
  {
   "cell_type": "code",
   "execution_count": null,
   "metadata": {},
   "outputs": [],
   "source": []
  },
  {
   "cell_type": "code",
   "execution_count": null,
   "metadata": {},
   "outputs": [],
   "source": [
    "from deepface import DeepFace\n",
    " \n",
    "embeddings = []\n",
    "for dirpath, dirnames, filenames in os.walk(\"db/\"):\n",
    "    for filename in filenames:\n",
    "        if \".jpg\" in filename:\n",
    "            img_path = f\"{dirpath}{filename}\"\n",
    "            embedding = DeepFace.represent(\n",
    "                img_path=img_path,\n",
    "                model_name=\"Facenet\",\n",
    "                detector_backend=\"mtcnn\",\n",
    "            )[0][\"embedding\"]\n",
    "            embeddings.append((img_path, embedding))"
   ]
  },
  {
   "cell_type": "code",
   "execution_count": null,
   "metadata": {},
   "outputs": [],
   "source": [
    "pipeline = r.pipeline(transaction=False)\n",
    "for img_path, embedding in tqdm(embeddings):\n",
    "    key = img_path.split(\"/\")[-1]\n",
    "    value = np.array(embedding).astype(np.float32).tobytes()\n",
    "    pipeline.hset(key, mapping = {\"embedding\": value})\n",
    "# -------------------------------------\n",
    "pipeline_results = pipeline.execute()"
   ]
  },
  {
   "cell_type": "code",
   "execution_count": null,
   "metadata": {},
   "outputs": [],
   "source": [
    "min_value = -10\n",
    "max_value = 10\n",
    "size = 1000000\n",
    "dims = 128\n",
    " \n",
    "synthetic_vectors = np.random.uniform(min_value, max_value, size=(size, dims))\n",
    " \n",
    "pipeline = r.pipeline(transaction=False)\n",
    "for idx, synthetic_vector in enumerate(synthetic_vectors):\n",
    "   key = f\"synthetic_{idx}.jpg\"\n",
    "   value = np.array(synthetic_vector).astype(np.float32).tobytes()\n",
    "   pipeline.hset(key, mapping = {\"embedding\": value})\n",
    "# -------------------------------------\n",
    "pipeline_results = pipeline.execute()"
   ]
  },
  {
   "cell_type": "code",
   "execution_count": null,
   "metadata": {},
   "outputs": [],
   "source": [
    "r.ft().create_index(\n",
    "    [\n",
    "        VectorField(\n",
    "            \"embedding\",\n",
    "            \"HNSW\",\n",
    "            {\n",
    "                \"TYPE\": \"FLOAT32\",\n",
    "                \"DIM\": 128,\n",
    "                \"DISTANCE_METRIC\": \"L2\",\n",
    "            },\n",
    "        )\n",
    "    ]\n",
    ")"
   ]
  },
  {
   "cell_type": "code",
   "execution_count": null,
   "metadata": {},
   "outputs": [],
   "source": [
    "target_embedding = DeepFace.represent(\n",
    "    img_path=\"target.jpg\",\n",
    "    model_name=\"Facenet\",\n",
    "    detector_backend=\"mtcnn\"\n",
    ")[0][\"embedding\"]\n",
    " \n",
    "query_vector = np.array(target_embedding).astype(np.float32).tobytes()"
   ]
  },
  {
   "cell_type": "code",
   "execution_count": null,
   "metadata": {},
   "outputs": [],
   "source": [
    "k = 3\n",
    " \n",
    "base_query = f\"*=&amp;amp;gt;[KNN {k} @embedding $query_vector AS distance]\"\n",
    "query = Query(base_query).return_fields(\"distance\").sort_by(\"distance\").dialect(2)\n",
    "results = r.ft().search(query, query_params={\"query_vector\": query_vector})\n",
    " \n",
    "for idx, result in enumerate(results.docs):\n",
    "    print(\n",
    "        f\"{idx + 1}th nearest neighbor is {result.id} with distance {result.distance}\"\n",
    "    )"
   ]
  },
  {
   "cell_type": "code",
   "execution_count": null,
   "metadata": {},
   "outputs": [],
   "source": []
  }
 ],
 "metadata": {
  "kernelspec": {
   "display_name": "venv",
   "language": "python",
   "name": "python3"
  },
  "language_info": {
   "codemirror_mode": {
    "name": "ipython",
    "version": 3
   },
   "file_extension": ".py",
   "mimetype": "text/x-python",
   "name": "python",
   "nbconvert_exporter": "python",
   "pygments_lexer": "ipython3",
   "version": "3.11.3"
  }
 },
 "nbformat": 4,
 "nbformat_minor": 2
}
